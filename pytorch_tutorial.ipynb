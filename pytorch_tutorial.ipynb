{
  "nbformat": 4,
  "nbformat_minor": 0,
  "metadata": {
    "colab": {
      "provenance": [],
      "authorship_tag": "ABX9TyOgGAThMR/0n+A/xsehh4TU",
      "include_colab_link": true
    },
    "kernelspec": {
      "name": "python3",
      "display_name": "Python 3"
    },
    "language_info": {
      "name": "python"
    }
  },
  "cells": [
    {
      "cell_type": "markdown",
      "metadata": {
        "id": "view-in-github",
        "colab_type": "text"
      },
      "source": [
        "<a href=\"https://colab.research.google.com/github/shivaansh81001/Pytorch-IBM-/blob/main/pytorch_tutorial.ipynb\" target=\"_parent\"><img src=\"https://colab.research.google.com/assets/colab-badge.svg\" alt=\"Open In Colab\"/></a>"
      ]
    },
    {
      "cell_type": "markdown",
      "source": [
        "# Pytorch course"
      ],
      "metadata": {
        "id": "i5ryPA-S0c-N"
      }
    },
    {
      "cell_type": "code",
      "execution_count": 33,
      "metadata": {
        "id": "RWK-htTP0Y3Z"
      },
      "outputs": [],
      "source": [
        "import torch\n",
        "import numpy as np\n",
        "import pandas as pd"
      ]
    },
    {
      "cell_type": "markdown",
      "source": [
        "Making 1D tensor"
      ],
      "metadata": {
        "id": "AV_uUqk91AkW"
      }
    },
    {
      "cell_type": "code",
      "source": [
        "a = [2,3,4,5,6.2]\n",
        "tens = torch.tensor(a)"
      ],
      "metadata": {
        "id": "f-e6wFGY1D7Z"
      },
      "execution_count": 11,
      "outputs": []
    },
    {
      "cell_type": "markdown",
      "source": [
        "data type"
      ],
      "metadata": {
        "id": "6m9mMlV81YIT"
      }
    },
    {
      "cell_type": "code",
      "source": [
        "tens.dtype"
      ],
      "metadata": {
        "colab": {
          "base_uri": "https://localhost:8080/"
        },
        "id": "q4y6UMP31ROe",
        "outputId": "f0f580aa-2527-4411-887d-7f91747ac0ec"
      },
      "execution_count": 12,
      "outputs": [
        {
          "output_type": "execute_result",
          "data": {
            "text/plain": [
              "torch.float32"
            ]
          },
          "metadata": {},
          "execution_count": 12
        }
      ]
    },
    {
      "cell_type": "markdown",
      "source": [
        "explicit declaration\n"
      ],
      "metadata": {
        "id": "5gGDA3gQ1op4"
      }
    },
    {
      "cell_type": "code",
      "source": [
        "tens2 = torch.tensor(a,dtype=torch.int32)\n",
        "tens2.dtype"
      ],
      "metadata": {
        "colab": {
          "base_uri": "https://localhost:8080/"
        },
        "id": "3v827a5_1rgY",
        "outputId": "431dfd55-8f92-4a84-df88-ec979c9e2ee3"
      },
      "execution_count": 14,
      "outputs": [
        {
          "output_type": "execute_result",
          "data": {
            "text/plain": [
              "torch.int32"
            ]
          },
          "metadata": {},
          "execution_count": 14
        }
      ]
    },
    {
      "cell_type": "markdown",
      "source": [
        "FloatTensor (explicitly for floats)"
      ],
      "metadata": {
        "id": "WhUzZS_u16wo"
      }
    },
    {
      "cell_type": "code",
      "source": [
        "b = torch.FloatTensor([1,2,3,4])\n",
        "b.dtype"
      ],
      "metadata": {
        "colab": {
          "base_uri": "https://localhost:8080/"
        },
        "id": "KwKM-xm416OQ",
        "outputId": "f5c7d43c-9cba-48ad-c7ff-bf462b19a6c2"
      },
      "execution_count": 15,
      "outputs": [
        {
          "output_type": "execute_result",
          "data": {
            "text/plain": [
              "torch.float32"
            ]
          },
          "metadata": {},
          "execution_count": 15
        }
      ]
    },
    {
      "cell_type": "code",
      "source": [
        "b.type()"
      ],
      "metadata": {
        "colab": {
          "base_uri": "https://localhost:8080/",
          "height": 35
        },
        "id": "shTkiJpt2PyJ",
        "outputId": "9de95181-c1a0-4ada-e8cc-e0217c1da729"
      },
      "execution_count": 16,
      "outputs": [
        {
          "output_type": "execute_result",
          "data": {
            "text/plain": [
              "'torch.FloatTensor'"
            ],
            "application/vnd.google.colaboratory.intrinsic+json": {
              "type": "string"
            }
          },
          "metadata": {},
          "execution_count": 16
        }
      ]
    },
    {
      "cell_type": "markdown",
      "source": [
        "type conversion"
      ],
      "metadata": {
        "id": "_FQbVdND2W6R"
      }
    },
    {
      "cell_type": "code",
      "source": [
        "type1 = torch.tensor([1,2,3,4],dtype=torch.int32)\n",
        "type2 = type1.type(torch.FloatTensor)\n",
        "type2.type()"
      ],
      "metadata": {
        "colab": {
          "base_uri": "https://localhost:8080/",
          "height": 35
        },
        "id": "Qa5j2AFG2V8B",
        "outputId": "344af3ce-9fea-4b38-befe-513df4a7ff11"
      },
      "execution_count": 17,
      "outputs": [
        {
          "output_type": "execute_result",
          "data": {
            "text/plain": [
              "'torch.FloatTensor'"
            ],
            "application/vnd.google.colaboratory.intrinsic+json": {
              "type": "string"
            }
          },
          "metadata": {},
          "execution_count": 17
        }
      ]
    },
    {
      "cell_type": "markdown",
      "source": [
        "size, dimension and rank\n"
      ],
      "metadata": {
        "id": "gpP628zK2xFN"
      }
    },
    {
      "cell_type": "code",
      "source": [
        "b.size()"
      ],
      "metadata": {
        "colab": {
          "base_uri": "https://localhost:8080/"
        },
        "id": "Bc7CRhPf2yD8",
        "outputId": "8e760731-078c-4b04-9589-b42ecd5bb9fd"
      },
      "execution_count": 18,
      "outputs": [
        {
          "output_type": "execute_result",
          "data": {
            "text/plain": [
              "torch.Size([4])"
            ]
          },
          "metadata": {},
          "execution_count": 18
        }
      ]
    },
    {
      "cell_type": "code",
      "source": [
        "b.ndimension()"
      ],
      "metadata": {
        "colab": {
          "base_uri": "https://localhost:8080/"
        },
        "id": "kMFM5YVK24pE",
        "outputId": "9d832420-629a-4595-8bb4-df731d891458"
      },
      "execution_count": 19,
      "outputs": [
        {
          "output_type": "execute_result",
          "data": {
            "text/plain": [
              "1"
            ]
          },
          "metadata": {},
          "execution_count": 19
        }
      ]
    },
    {
      "cell_type": "markdown",
      "source": [
        "1d to 2d\n",
        "view(rows,cols)"
      ],
      "metadata": {
        "id": "34QuY28o3IKc"
      }
    },
    {
      "cell_type": "code",
      "source": [
        "b_col = b.view(-1,1)  #if we dont know the dimension of the vector we can use -1 to infer it\n",
        "b_col"
      ],
      "metadata": {
        "colab": {
          "base_uri": "https://localhost:8080/"
        },
        "id": "0CEjwPuV2_1g",
        "outputId": "c5be0a53-e13b-4f94-cb43-9f3c467386e3"
      },
      "execution_count": 24,
      "outputs": [
        {
          "output_type": "execute_result",
          "data": {
            "text/plain": [
              "tensor([[1.],\n",
              "        [2.],\n",
              "        [3.],\n",
              "        [4.]])"
            ]
          },
          "metadata": {},
          "execution_count": 24
        }
      ]
    },
    {
      "cell_type": "markdown",
      "source": [
        "numpy conversion from or to tensor"
      ],
      "metadata": {
        "id": "fdPxm3P33292"
      }
    },
    {
      "cell_type": "code",
      "source": [
        "np_array = np.array(b)    # using numpy\n",
        "print(np_array)\n",
        "type(np_array)"
      ],
      "metadata": {
        "colab": {
          "base_uri": "https://localhost:8080/"
        },
        "id": "uoeXR5OB35mE",
        "outputId": "254f16c1-ef31-43d0-9e4c-99f5a248988f"
      },
      "execution_count": 28,
      "outputs": [
        {
          "output_type": "stream",
          "name": "stdout",
          "text": [
            "[1. 2. 3. 4.]\n"
          ]
        },
        {
          "output_type": "execute_result",
          "data": {
            "text/plain": [
              "numpy.ndarray"
            ]
          },
          "metadata": {},
          "execution_count": 28
        }
      ]
    },
    {
      "cell_type": "code",
      "source": [
        "torch_tensor = torch.from_numpy(np_array)\n",
        "print(torch_tensor)\n",
        "torch_tensor.type()"
      ],
      "metadata": {
        "colab": {
          "base_uri": "https://localhost:8080/",
          "height": 53
        },
        "id": "WzcnE8Cy4My1",
        "outputId": "a1c39563-4a05-4342-c4b0-3e656fedbfab"
      },
      "execution_count": 29,
      "outputs": [
        {
          "output_type": "stream",
          "name": "stdout",
          "text": [
            "tensor([1., 2., 3., 4.])\n"
          ]
        },
        {
          "output_type": "execute_result",
          "data": {
            "text/plain": [
              "'torch.FloatTensor'"
            ],
            "application/vnd.google.colaboratory.intrinsic+json": {
              "type": "string"
            }
          },
          "metadata": {},
          "execution_count": 29
        }
      ]
    },
    {
      "cell_type": "code",
      "source": [
        "back_to_np = torch_tensor.numpy()\n",
        "type(back_to_np)"
      ],
      "metadata": {
        "colab": {
          "base_uri": "https://localhost:8080/"
        },
        "id": "tXAhCQBK4hfC",
        "outputId": "12ebc473-dd74-43a4-c0b2-340e5e4d1056"
      },
      "execution_count": 32,
      "outputs": [
        {
          "output_type": "execute_result",
          "data": {
            "text/plain": [
              "numpy.ndarray"
            ]
          },
          "metadata": {},
          "execution_count": 32
        }
      ]
    },
    {
      "cell_type": "markdown",
      "source": [
        "pandas to/ from tensor"
      ],
      "metadata": {
        "id": "rVSXbiT440PW"
      }
    },
    {
      "cell_type": "code",
      "source": [
        "pandas_series = pd.Series([1,2,3,4,5])\n",
        "pandas_series"
      ],
      "metadata": {
        "colab": {
          "base_uri": "https://localhost:8080/",
          "height": 241
        },
        "id": "KpJITjUs4zeS",
        "outputId": "dd7c7358-8700-40cd-eccf-d4251a0108b1"
      },
      "execution_count": 36,
      "outputs": [
        {
          "output_type": "execute_result",
          "data": {
            "text/plain": [
              "0    1\n",
              "1    2\n",
              "2    3\n",
              "3    4\n",
              "4    5\n",
              "dtype: int64"
            ],
            "text/html": [
              "<div>\n",
              "<style scoped>\n",
              "    .dataframe tbody tr th:only-of-type {\n",
              "        vertical-align: middle;\n",
              "    }\n",
              "\n",
              "    .dataframe tbody tr th {\n",
              "        vertical-align: top;\n",
              "    }\n",
              "\n",
              "    .dataframe thead th {\n",
              "        text-align: right;\n",
              "    }\n",
              "</style>\n",
              "<table border=\"1\" class=\"dataframe\">\n",
              "  <thead>\n",
              "    <tr style=\"text-align: right;\">\n",
              "      <th></th>\n",
              "      <th>0</th>\n",
              "    </tr>\n",
              "  </thead>\n",
              "  <tbody>\n",
              "    <tr>\n",
              "      <th>0</th>\n",
              "      <td>1</td>\n",
              "    </tr>\n",
              "    <tr>\n",
              "      <th>1</th>\n",
              "      <td>2</td>\n",
              "    </tr>\n",
              "    <tr>\n",
              "      <th>2</th>\n",
              "      <td>3</td>\n",
              "    </tr>\n",
              "    <tr>\n",
              "      <th>3</th>\n",
              "      <td>4</td>\n",
              "    </tr>\n",
              "    <tr>\n",
              "      <th>4</th>\n",
              "      <td>5</td>\n",
              "    </tr>\n",
              "  </tbody>\n",
              "</table>\n",
              "</div><br><label><b>dtype:</b> int64</label>"
            ]
          },
          "metadata": {},
          "execution_count": 36
        }
      ]
    },
    {
      "cell_type": "code",
      "source": [
        "pandas_to_torch = torch.from_numpy(pandas_series.values)\n",
        "print(pandas_to_torch.type())\n",
        "pandas_to_torch"
      ],
      "metadata": {
        "colab": {
          "base_uri": "https://localhost:8080/"
        },
        "id": "YAkg2Q585XEz",
        "outputId": "741c6bb9-675d-4fbf-ae76-77ed1b756a55"
      },
      "execution_count": 40,
      "outputs": [
        {
          "output_type": "stream",
          "name": "stdout",
          "text": [
            "torch.LongTensor\n"
          ]
        },
        {
          "output_type": "execute_result",
          "data": {
            "text/plain": [
              "tensor([1, 2, 3, 4, 5])"
            ]
          },
          "metadata": {},
          "execution_count": 40
        }
      ]
    },
    {
      "cell_type": "markdown",
      "source": [
        "tensor to list"
      ],
      "metadata": {
        "id": "4J9lvsHG5sUy"
      }
    },
    {
      "cell_type": "code",
      "source": [
        "a = pandas_to_torch.tolist()\n",
        "print(a)\n",
        "type(a)"
      ],
      "metadata": {
        "colab": {
          "base_uri": "https://localhost:8080/"
        },
        "id": "TzW1DZnX5tos",
        "outputId": "565d6795-2301-40b8-e864-c0514ffe3922"
      },
      "execution_count": 44,
      "outputs": [
        {
          "output_type": "stream",
          "name": "stdout",
          "text": [
            "[1, 2, 3, 4, 5]\n"
          ]
        },
        {
          "output_type": "execute_result",
          "data": {
            "text/plain": [
              "list"
            ]
          },
          "metadata": {},
          "execution_count": 44
        }
      ]
    },
    {
      "cell_type": "markdown",
      "source": [
        "NOTE: indvidual values of a tensor are also tensors"
      ],
      "metadata": {
        "id": "gWUlTn_d56zF"
      }
    },
    {
      "cell_type": "code",
      "source": [
        "pandas_to_torch[0]"
      ],
      "metadata": {
        "colab": {
          "base_uri": "https://localhost:8080/"
        },
        "id": "vnL7NhJY5_VK",
        "outputId": "1ace9a8e-34e3-4d41-ca9a-79fdc996cf22"
      },
      "execution_count": 46,
      "outputs": [
        {
          "output_type": "execute_result",
          "data": {
            "text/plain": [
              "tensor(1)"
            ]
          },
          "metadata": {},
          "execution_count": 46
        }
      ]
    },
    {
      "cell_type": "markdown",
      "source": [
        "to return a python number istead of tensor use .item()"
      ],
      "metadata": {
        "id": "GiJ4_xmx6W_A"
      }
    },
    {
      "cell_type": "code",
      "source": [
        "pandas_to_torch[0].item()"
      ],
      "metadata": {
        "colab": {
          "base_uri": "https://localhost:8080/"
        },
        "id": "Lb6KsYL06dil",
        "outputId": "1c3c2687-ca64-411b-c145-e519702bb889"
      },
      "execution_count": 48,
      "outputs": [
        {
          "output_type": "execute_result",
          "data": {
            "text/plain": [
              "1"
            ]
          },
          "metadata": {},
          "execution_count": 48
        }
      ]
    }
  ]
}