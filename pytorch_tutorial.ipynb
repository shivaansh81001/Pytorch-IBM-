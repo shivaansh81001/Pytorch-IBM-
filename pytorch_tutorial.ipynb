{
  "nbformat": 4,
  "nbformat_minor": 0,
  "metadata": {
    "colab": {
      "provenance": [],
      "authorship_tag": "ABX9TyN7N2nvtOFGyY5YBwUjW5FM",
      "include_colab_link": true
    },
    "kernelspec": {
      "name": "python3",
      "display_name": "Python 3"
    },
    "language_info": {
      "name": "python"
    }
  },
  "cells": [
    {
      "cell_type": "markdown",
      "metadata": {
        "id": "view-in-github",
        "colab_type": "text"
      },
      "source": [
        "<a href=\"https://colab.research.google.com/github/shivaansh81001/Pytorch-IBM-/blob/main/pytorch_tutorial.ipynb\" target=\"_parent\"><img src=\"https://colab.research.google.com/assets/colab-badge.svg\" alt=\"Open In Colab\"/></a>"
      ]
    },
    {
      "cell_type": "markdown",
      "source": [
        "# Pytorch Basics"
      ],
      "metadata": {
        "id": "i5ryPA-S0c-N"
      }
    },
    {
      "cell_type": "code",
      "execution_count": 1,
      "metadata": {
        "id": "RWK-htTP0Y3Z"
      },
      "outputs": [],
      "source": [
        "import torch\n",
        "import numpy as np\n",
        "import pandas as pd"
      ]
    },
    {
      "cell_type": "markdown",
      "source": [
        "Making 1D tensor"
      ],
      "metadata": {
        "id": "AV_uUqk91AkW"
      }
    },
    {
      "cell_type": "code",
      "source": [
        "a = [2,3,4,5,6.2]\n",
        "tens = torch.tensor(a)"
      ],
      "metadata": {
        "id": "f-e6wFGY1D7Z"
      },
      "execution_count": 2,
      "outputs": []
    },
    {
      "cell_type": "markdown",
      "source": [
        "data type"
      ],
      "metadata": {
        "id": "6m9mMlV81YIT"
      }
    },
    {
      "cell_type": "code",
      "source": [
        "tens.dtype"
      ],
      "metadata": {
        "colab": {
          "base_uri": "https://localhost:8080/"
        },
        "id": "q4y6UMP31ROe",
        "outputId": "70647d35-ba8f-4a87-e8c3-6d814c114ab9"
      },
      "execution_count": 3,
      "outputs": [
        {
          "output_type": "execute_result",
          "data": {
            "text/plain": [
              "torch.float32"
            ]
          },
          "metadata": {},
          "execution_count": 3
        }
      ]
    },
    {
      "cell_type": "markdown",
      "source": [
        "explicit declaration\n"
      ],
      "metadata": {
        "id": "5gGDA3gQ1op4"
      }
    },
    {
      "cell_type": "code",
      "source": [
        "tens2 = torch.tensor(a,dtype=torch.int32)\n",
        "tens2.dtype"
      ],
      "metadata": {
        "colab": {
          "base_uri": "https://localhost:8080/"
        },
        "id": "3v827a5_1rgY",
        "outputId": "8b9e74a4-b5a1-4b21-ed8c-e7130cc4fb6b"
      },
      "execution_count": 4,
      "outputs": [
        {
          "output_type": "execute_result",
          "data": {
            "text/plain": [
              "torch.int32"
            ]
          },
          "metadata": {},
          "execution_count": 4
        }
      ]
    },
    {
      "cell_type": "markdown",
      "source": [
        "FloatTensor (explicitly for floats)"
      ],
      "metadata": {
        "id": "WhUzZS_u16wo"
      }
    },
    {
      "cell_type": "code",
      "source": [
        "b = torch.FloatTensor([1,2,3,4])\n",
        "b.dtype"
      ],
      "metadata": {
        "colab": {
          "base_uri": "https://localhost:8080/"
        },
        "id": "KwKM-xm416OQ",
        "outputId": "a75afcd9-717b-432c-8a5f-583dee201aea"
      },
      "execution_count": 5,
      "outputs": [
        {
          "output_type": "execute_result",
          "data": {
            "text/plain": [
              "torch.float32"
            ]
          },
          "metadata": {},
          "execution_count": 5
        }
      ]
    },
    {
      "cell_type": "code",
      "source": [
        "b.type()"
      ],
      "metadata": {
        "colab": {
          "base_uri": "https://localhost:8080/",
          "height": 35
        },
        "id": "shTkiJpt2PyJ",
        "outputId": "7638220c-1188-4ef6-b83e-6bbddd0c5965"
      },
      "execution_count": 6,
      "outputs": [
        {
          "output_type": "execute_result",
          "data": {
            "text/plain": [
              "'torch.FloatTensor'"
            ],
            "application/vnd.google.colaboratory.intrinsic+json": {
              "type": "string"
            }
          },
          "metadata": {},
          "execution_count": 6
        }
      ]
    },
    {
      "cell_type": "markdown",
      "source": [
        "type conversion"
      ],
      "metadata": {
        "id": "_FQbVdND2W6R"
      }
    },
    {
      "cell_type": "code",
      "source": [
        "type1 = torch.tensor([1,2,3,4],dtype=torch.int32)\n",
        "type2 = type1.type(torch.FloatTensor)\n",
        "type2.type()"
      ],
      "metadata": {
        "colab": {
          "base_uri": "https://localhost:8080/",
          "height": 35
        },
        "id": "Qa5j2AFG2V8B",
        "outputId": "a055531b-0430-4d47-c24a-5ca61b7d5b99"
      },
      "execution_count": 7,
      "outputs": [
        {
          "output_type": "execute_result",
          "data": {
            "text/plain": [
              "'torch.FloatTensor'"
            ],
            "application/vnd.google.colaboratory.intrinsic+json": {
              "type": "string"
            }
          },
          "metadata": {},
          "execution_count": 7
        }
      ]
    },
    {
      "cell_type": "markdown",
      "source": [
        "size, dimension and rank\n"
      ],
      "metadata": {
        "id": "gpP628zK2xFN"
      }
    },
    {
      "cell_type": "code",
      "source": [
        "b.size()"
      ],
      "metadata": {
        "colab": {
          "base_uri": "https://localhost:8080/"
        },
        "id": "Bc7CRhPf2yD8",
        "outputId": "88c4ef52-72b7-4c74-c393-5674a8779fcd"
      },
      "execution_count": 8,
      "outputs": [
        {
          "output_type": "execute_result",
          "data": {
            "text/plain": [
              "torch.Size([4])"
            ]
          },
          "metadata": {},
          "execution_count": 8
        }
      ]
    },
    {
      "cell_type": "code",
      "source": [
        "b.ndimension()"
      ],
      "metadata": {
        "colab": {
          "base_uri": "https://localhost:8080/"
        },
        "id": "kMFM5YVK24pE",
        "outputId": "53010ac0-3c86-4c8f-a022-e5dc8a4d8102"
      },
      "execution_count": 9,
      "outputs": [
        {
          "output_type": "execute_result",
          "data": {
            "text/plain": [
              "1"
            ]
          },
          "metadata": {},
          "execution_count": 9
        }
      ]
    },
    {
      "cell_type": "markdown",
      "source": [
        "1d to 2d\n",
        "view(rows,cols)"
      ],
      "metadata": {
        "id": "34QuY28o3IKc"
      }
    },
    {
      "cell_type": "code",
      "source": [
        "b_col = b.view(-1,1)  #if we dont know the dimension of the vector we can use -1 to infer it\n",
        "b_col"
      ],
      "metadata": {
        "colab": {
          "base_uri": "https://localhost:8080/"
        },
        "id": "0CEjwPuV2_1g",
        "outputId": "62b307af-864f-4dfe-d0ff-ea4d3d1cac45"
      },
      "execution_count": 10,
      "outputs": [
        {
          "output_type": "execute_result",
          "data": {
            "text/plain": [
              "tensor([[1.],\n",
              "        [2.],\n",
              "        [3.],\n",
              "        [4.]])"
            ]
          },
          "metadata": {},
          "execution_count": 10
        }
      ]
    },
    {
      "cell_type": "markdown",
      "source": [
        "numpy conversion from or to tensor"
      ],
      "metadata": {
        "id": "fdPxm3P33292"
      }
    },
    {
      "cell_type": "code",
      "source": [
        "np_array = np.array(b)    # using numpy\n",
        "print(np_array)\n",
        "type(np_array)"
      ],
      "metadata": {
        "colab": {
          "base_uri": "https://localhost:8080/"
        },
        "id": "uoeXR5OB35mE",
        "outputId": "985c4ef7-bcb5-4f86-b25d-26007b26f683"
      },
      "execution_count": 11,
      "outputs": [
        {
          "output_type": "stream",
          "name": "stdout",
          "text": [
            "[1. 2. 3. 4.]\n"
          ]
        },
        {
          "output_type": "execute_result",
          "data": {
            "text/plain": [
              "numpy.ndarray"
            ]
          },
          "metadata": {},
          "execution_count": 11
        }
      ]
    },
    {
      "cell_type": "code",
      "source": [
        "torch_tensor = torch.from_numpy(np_array)\n",
        "print(torch_tensor)\n",
        "torch_tensor.type()"
      ],
      "metadata": {
        "colab": {
          "base_uri": "https://localhost:8080/",
          "height": 53
        },
        "id": "WzcnE8Cy4My1",
        "outputId": "fbed0770-cb41-4c32-e7b2-bbdd6b5445b5"
      },
      "execution_count": 12,
      "outputs": [
        {
          "output_type": "stream",
          "name": "stdout",
          "text": [
            "tensor([1., 2., 3., 4.])\n"
          ]
        },
        {
          "output_type": "execute_result",
          "data": {
            "text/plain": [
              "'torch.FloatTensor'"
            ],
            "application/vnd.google.colaboratory.intrinsic+json": {
              "type": "string"
            }
          },
          "metadata": {},
          "execution_count": 12
        }
      ]
    },
    {
      "cell_type": "code",
      "source": [
        "back_to_np = torch_tensor.numpy()\n",
        "type(back_to_np)"
      ],
      "metadata": {
        "colab": {
          "base_uri": "https://localhost:8080/"
        },
        "id": "tXAhCQBK4hfC",
        "outputId": "4fb674ad-659f-4c98-c78f-ab5a0f555afa"
      },
      "execution_count": 13,
      "outputs": [
        {
          "output_type": "execute_result",
          "data": {
            "text/plain": [
              "numpy.ndarray"
            ]
          },
          "metadata": {},
          "execution_count": 13
        }
      ]
    },
    {
      "cell_type": "markdown",
      "source": [
        "pandas to/ from tensor"
      ],
      "metadata": {
        "id": "rVSXbiT440PW"
      }
    },
    {
      "cell_type": "code",
      "source": [
        "pandas_series = pd.Series([1,2,3,4,5])\n",
        "pandas_series"
      ],
      "metadata": {
        "colab": {
          "base_uri": "https://localhost:8080/",
          "height": 241
        },
        "id": "KpJITjUs4zeS",
        "outputId": "cfe1e5b0-dad7-4f4a-8d7d-d6458454fb4f"
      },
      "execution_count": 14,
      "outputs": [
        {
          "output_type": "execute_result",
          "data": {
            "text/plain": [
              "0    1\n",
              "1    2\n",
              "2    3\n",
              "3    4\n",
              "4    5\n",
              "dtype: int64"
            ],
            "text/html": [
              "<div>\n",
              "<style scoped>\n",
              "    .dataframe tbody tr th:only-of-type {\n",
              "        vertical-align: middle;\n",
              "    }\n",
              "\n",
              "    .dataframe tbody tr th {\n",
              "        vertical-align: top;\n",
              "    }\n",
              "\n",
              "    .dataframe thead th {\n",
              "        text-align: right;\n",
              "    }\n",
              "</style>\n",
              "<table border=\"1\" class=\"dataframe\">\n",
              "  <thead>\n",
              "    <tr style=\"text-align: right;\">\n",
              "      <th></th>\n",
              "      <th>0</th>\n",
              "    </tr>\n",
              "  </thead>\n",
              "  <tbody>\n",
              "    <tr>\n",
              "      <th>0</th>\n",
              "      <td>1</td>\n",
              "    </tr>\n",
              "    <tr>\n",
              "      <th>1</th>\n",
              "      <td>2</td>\n",
              "    </tr>\n",
              "    <tr>\n",
              "      <th>2</th>\n",
              "      <td>3</td>\n",
              "    </tr>\n",
              "    <tr>\n",
              "      <th>3</th>\n",
              "      <td>4</td>\n",
              "    </tr>\n",
              "    <tr>\n",
              "      <th>4</th>\n",
              "      <td>5</td>\n",
              "    </tr>\n",
              "  </tbody>\n",
              "</table>\n",
              "</div><br><label><b>dtype:</b> int64</label>"
            ]
          },
          "metadata": {},
          "execution_count": 14
        }
      ]
    },
    {
      "cell_type": "code",
      "source": [
        "pandas_to_torch = torch.from_numpy(pandas_series.values)\n",
        "print(pandas_to_torch.type())\n",
        "pandas_to_torch"
      ],
      "metadata": {
        "colab": {
          "base_uri": "https://localhost:8080/"
        },
        "id": "YAkg2Q585XEz",
        "outputId": "95b120a1-c456-484f-ee91-32b9642d630f"
      },
      "execution_count": 15,
      "outputs": [
        {
          "output_type": "stream",
          "name": "stdout",
          "text": [
            "torch.LongTensor\n"
          ]
        },
        {
          "output_type": "execute_result",
          "data": {
            "text/plain": [
              "tensor([1, 2, 3, 4, 5])"
            ]
          },
          "metadata": {},
          "execution_count": 15
        }
      ]
    },
    {
      "cell_type": "markdown",
      "source": [
        "tensor to list"
      ],
      "metadata": {
        "id": "4J9lvsHG5sUy"
      }
    },
    {
      "cell_type": "code",
      "source": [
        "a = pandas_to_torch.tolist()\n",
        "print(a)\n",
        "type(a)"
      ],
      "metadata": {
        "colab": {
          "base_uri": "https://localhost:8080/"
        },
        "id": "TzW1DZnX5tos",
        "outputId": "564d9139-9dea-41fe-e416-8ca45be1480c"
      },
      "execution_count": 16,
      "outputs": [
        {
          "output_type": "stream",
          "name": "stdout",
          "text": [
            "[1, 2, 3, 4, 5]\n"
          ]
        },
        {
          "output_type": "execute_result",
          "data": {
            "text/plain": [
              "list"
            ]
          },
          "metadata": {},
          "execution_count": 16
        }
      ]
    },
    {
      "cell_type": "markdown",
      "source": [
        "NOTE: indvidual values of a tensor are also tensors"
      ],
      "metadata": {
        "id": "gWUlTn_d56zF"
      }
    },
    {
      "cell_type": "code",
      "source": [
        "pandas_to_torch[0]"
      ],
      "metadata": {
        "colab": {
          "base_uri": "https://localhost:8080/"
        },
        "id": "vnL7NhJY5_VK",
        "outputId": "ff88e756-0799-4b82-9b48-fe7ccd4e2fc0"
      },
      "execution_count": 17,
      "outputs": [
        {
          "output_type": "execute_result",
          "data": {
            "text/plain": [
              "tensor(1)"
            ]
          },
          "metadata": {},
          "execution_count": 17
        }
      ]
    },
    {
      "cell_type": "markdown",
      "source": [
        "to return a python number istead of tensor use .item()"
      ],
      "metadata": {
        "id": "GiJ4_xmx6W_A"
      }
    },
    {
      "cell_type": "code",
      "source": [
        "pandas_to_torch[0].item()"
      ],
      "metadata": {
        "colab": {
          "base_uri": "https://localhost:8080/"
        },
        "id": "Lb6KsYL06dil",
        "outputId": "b40009f6-407e-4b28-b33b-35d7c890aa29"
      },
      "execution_count": 18,
      "outputs": [
        {
          "output_type": "execute_result",
          "data": {
            "text/plain": [
              "1"
            ]
          },
          "metadata": {},
          "execution_count": 18
        }
      ]
    },
    {
      "cell_type": "markdown",
      "source": [
        "# Pytorch Indexing and Slicing"
      ],
      "metadata": {
        "id": "IQIdQqpv7RNG"
      }
    },
    {
      "cell_type": "markdown",
      "source": [
        "changing element"
      ],
      "metadata": {
        "id": "ZkxDkKbT7VXh"
      }
    },
    {
      "cell_type": "code",
      "source": [
        "c = torch.tensor([20,21,87,30,12])\n",
        "c[0]=100      #indexing goes same as python\n",
        "c"
      ],
      "metadata": {
        "colab": {
          "base_uri": "https://localhost:8080/"
        },
        "id": "XswigEQs7TwP",
        "outputId": "f46013c3-cdae-41c0-ccf8-8fd6ca9295e5"
      },
      "execution_count": 19,
      "outputs": [
        {
          "output_type": "execute_result",
          "data": {
            "text/plain": [
              "tensor([100,  21,  87,  30,  12])"
            ]
          },
          "metadata": {},
          "execution_count": 19
        }
      ]
    },
    {
      "cell_type": "markdown",
      "source": [
        "slicing"
      ],
      "metadata": {
        "id": "bnpOvO827mW0"
      }
    },
    {
      "cell_type": "code",
      "source": [
        "d = c[1:4]\n",
        "d"
      ],
      "metadata": {
        "colab": {
          "base_uri": "https://localhost:8080/"
        },
        "id": "fX1pZNJo7hx3",
        "outputId": "3d5965ee-f506-4776-e9d4-4b05f3207753"
      },
      "execution_count": 20,
      "outputs": [
        {
          "output_type": "execute_result",
          "data": {
            "text/plain": [
              "tensor([21, 87, 30])"
            ]
          },
          "metadata": {},
          "execution_count": 20
        }
      ]
    },
    {
      "cell_type": "code",
      "source": [
        "d[0:3] = torch.tensor([12,22,32])\n",
        "d"
      ],
      "metadata": {
        "colab": {
          "base_uri": "https://localhost:8080/"
        },
        "id": "bOQyLtIf76rm",
        "outputId": "8b9925e9-4167-4f56-ea77-95638bc3fa50"
      },
      "execution_count": 21,
      "outputs": [
        {
          "output_type": "execute_result",
          "data": {
            "text/plain": [
              "tensor([12, 22, 32])"
            ]
          },
          "metadata": {},
          "execution_count": 21
        }
      ]
    },
    {
      "cell_type": "markdown",
      "source": [
        "# Pytorch Basic Operations"
      ],
      "metadata": {
        "id": "MqjLLeZB8Pcm"
      }
    },
    {
      "cell_type": "markdown",
      "source": [
        "addition and subtraction\n",
        "![image.png](data:image/png;base64,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)"
      ],
      "metadata": {
        "id": "Qdcqw8np8T_z"
      }
    },
    {
      "cell_type": "code",
      "source": [
        "u = torch.tensor([1,0])\n",
        "v = torch.tensor([0,1])\n",
        "z = u+v\n",
        "z"
      ],
      "metadata": {
        "colab": {
          "base_uri": "https://localhost:8080/"
        },
        "id": "ysrEhpXl8TCI",
        "outputId": "d32e390c-1b33-499f-9f0a-6a8f5b092e1b"
      },
      "execution_count": 22,
      "outputs": [
        {
          "output_type": "execute_result",
          "data": {
            "text/plain": [
              "tensor([1, 1])"
            ]
          },
          "metadata": {},
          "execution_count": 22
        }
      ]
    },
    {
      "cell_type": "markdown",
      "source": [
        "vector mult with scalar"
      ],
      "metadata": {
        "id": "t1qKTRA_82GV"
      }
    },
    {
      "cell_type": "code",
      "source": [
        "y = torch.tensor([1,2])\n",
        "z = 2*y\n",
        "z"
      ],
      "metadata": {
        "colab": {
          "base_uri": "https://localhost:8080/"
        },
        "id": "ZUgYpdGU8zD4",
        "outputId": "38599793-c2f0-4689-d5c2-a151daf71f84"
      },
      "execution_count": 23,
      "outputs": [
        {
          "output_type": "execute_result",
          "data": {
            "text/plain": [
              "tensor([2, 4])"
            ]
          },
          "metadata": {},
          "execution_count": 23
        }
      ]
    },
    {
      "cell_type": "markdown",
      "source": [
        "vector multiplaction(inplace) / Hadamard product\n"
      ],
      "metadata": {
        "id": "0jnZi96r9F-6"
      }
    },
    {
      "cell_type": "code",
      "source": [
        "u = torch.tensor([1,2])\n",
        "v = torch.tensor([3,4])\n",
        "z = u*v\n",
        "z"
      ],
      "metadata": {
        "colab": {
          "base_uri": "https://localhost:8080/"
        },
        "id": "Saxlt0lA9L05",
        "outputId": "5be88b86-a53b-4982-8f1d-6657fe5dddfe"
      },
      "execution_count": 24,
      "outputs": [
        {
          "output_type": "execute_result",
          "data": {
            "text/plain": [
              "tensor([3, 8])"
            ]
          },
          "metadata": {},
          "execution_count": 24
        }
      ]
    },
    {
      "cell_type": "markdown",
      "source": [
        "dot product (scalar answer/similarity)\n"
      ],
      "metadata": {
        "id": "gNpxHlxn9fdC"
      }
    },
    {
      "cell_type": "code",
      "source": [
        "u = torch.tensor([1,2])\n",
        "v = torch.tensor([3,4])\n",
        "z = torch.dot(u,v)\n",
        "z"
      ],
      "metadata": {
        "colab": {
          "base_uri": "https://localhost:8080/"
        },
        "id": "NCBEBSP69hLo",
        "outputId": "fddb65a8-e030-45da-d15d-cf20ba743138"
      },
      "execution_count": 25,
      "outputs": [
        {
          "output_type": "execute_result",
          "data": {
            "text/plain": [
              "tensor(11)"
            ]
          },
          "metadata": {},
          "execution_count": 25
        }
      ]
    },
    {
      "cell_type": "markdown",
      "source": [
        "adding scalar to tensor / broadcasting\n"
      ],
      "metadata": {
        "id": "2UyBSBj-9xPZ"
      }
    },
    {
      "cell_type": "code",
      "source": [
        "x = torch.tensor([1,2,3,4])\n",
        "x+=1\n",
        "x"
      ],
      "metadata": {
        "colab": {
          "base_uri": "https://localhost:8080/"
        },
        "id": "4TzeRbPl9zHO",
        "outputId": "3fb6da8c-487f-4e6a-aaa9-9c7287f947f7"
      },
      "execution_count": 26,
      "outputs": [
        {
          "output_type": "execute_result",
          "data": {
            "text/plain": [
              "tensor([2, 3, 4, 5])"
            ]
          },
          "metadata": {},
          "execution_count": 26
        }
      ]
    },
    {
      "cell_type": "markdown",
      "source": [
        "universal functions"
      ],
      "metadata": {
        "id": "ZDyIkUEw9942"
      }
    },
    {
      "cell_type": "markdown",
      "source": [
        "mean"
      ],
      "metadata": {
        "id": "-wZgvsYd9_s1"
      }
    },
    {
      "cell_type": "code",
      "source": [
        "a = torch.FloatTensor([23,5,6,1,2])\n",
        "mean_a = a.mean().item()\n",
        "mean_a"
      ],
      "metadata": {
        "colab": {
          "base_uri": "https://localhost:8080/"
        },
        "id": "dElKEECH-Aba",
        "outputId": "3ca53d42-09a7-4f65-dde6-ea141b2295e3"
      },
      "execution_count": 27,
      "outputs": [
        {
          "output_type": "execute_result",
          "data": {
            "text/plain": [
              "7.400000095367432"
            ]
          },
          "metadata": {},
          "execution_count": 27
        }
      ]
    },
    {
      "cell_type": "markdown",
      "source": [
        "other: .max()"
      ],
      "metadata": {
        "id": "npMO5coV-ZQ8"
      }
    },
    {
      "cell_type": "markdown",
      "source": [
        "function : one tensor to another"
      ],
      "metadata": {
        "id": "gt08DB1P-kLP"
      }
    },
    {
      "cell_type": "code",
      "source": [
        "x = torch.tensor([0,np.pi,np.pi/2])\n",
        "y = torch.sin(x)\n",
        "y"
      ],
      "metadata": {
        "colab": {
          "base_uri": "https://localhost:8080/"
        },
        "id": "79YGrhVZAPEh",
        "outputId": "387ea294-038d-4cc7-d6d7-c6055a441e9e"
      },
      "execution_count": 28,
      "outputs": [
        {
          "output_type": "execute_result",
          "data": {
            "text/plain": [
              "tensor([ 0.0000e+00, -8.7423e-08,  1.0000e+00])"
            ]
          },
          "metadata": {},
          "execution_count": 28
        }
      ]
    },
    {
      "cell_type": "markdown",
      "source": [
        "arange equivalent of tensor: linspace"
      ],
      "metadata": {
        "id": "1MyrQYWTAjyg"
      }
    },
    {
      "cell_type": "code",
      "source": [
        "x = torch.linspace(-10,10,steps=100) # 5 equidistance steps from -2 to 3\n",
        "y = torch.sin(x)\n"
      ],
      "metadata": {
        "id": "rbDomtarAiC_"
      },
      "execution_count": 46,
      "outputs": []
    },
    {
      "cell_type": "markdown",
      "source": [
        "plot using matplot"
      ],
      "metadata": {
        "id": "L5RqwYG0gtC3"
      }
    },
    {
      "cell_type": "code",
      "source": [
        "import matplotlib.pyplot as plt\n",
        "%matplotlib inline"
      ],
      "metadata": {
        "id": "J66cYBvsgvRO"
      },
      "execution_count": 47,
      "outputs": []
    },
    {
      "cell_type": "code",
      "source": [
        "plt.plot(x.numpy(),y.numpy())"
      ],
      "metadata": {
        "colab": {
          "base_uri": "https://localhost:8080/",
          "height": 447
        },
        "id": "1qoRIjROg7Ku",
        "outputId": "bacc724e-e3da-4fb4-8b99-879c49141d14"
      },
      "execution_count": 48,
      "outputs": [
        {
          "output_type": "execute_result",
          "data": {
            "text/plain": [
              "[<matplotlib.lines.Line2D at 0x78a4cc35c6d0>]"
            ]
          },
          "metadata": {},
          "execution_count": 48
        },
        {
          "output_type": "display_data",
          "data": {
            "text/plain": [
              "<Figure size 640x480 with 1 Axes>"
            ],
            "image/png": "[encoded data removed]"
          },
          "metadata": {}
        }
      ]
    }
  ]
}